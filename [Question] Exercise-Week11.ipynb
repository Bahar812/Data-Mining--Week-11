{
 "cells": [
  {
   "cell_type": "code",
   "execution_count": 1,
   "metadata": {},
   "outputs": [
    {
     "name": "stdout",
     "output_type": "stream",
     "text": [
      "Collecting mlxtend==0.23.1\n",
      "  Obtaining dependency information for mlxtend==0.23.1 from https://files.pythonhosted.org/packages/1c/07/512f6a780239ad6ce06ce2aa7b4067583f5ddcfc7703a964a082c706a070/mlxtend-0.23.1-py3-none-any.whl.metadata\n",
      "  Downloading mlxtend-0.23.1-py3-none-any.whl.metadata (7.3 kB)\n",
      "Requirement already satisfied: scipy>=1.2.1 in c:\\users\\lenovo\\appdata\\local\\programs\\python\\python311\\lib\\site-packages (from mlxtend==0.23.1) (1.11.4)\n",
      "Requirement already satisfied: numpy>=1.16.2 in c:\\users\\lenovo\\appdata\\local\\programs\\python\\python311\\lib\\site-packages (from mlxtend==0.23.1) (1.24.2)\n",
      "Requirement already satisfied: pandas>=0.24.2 in c:\\users\\lenovo\\appdata\\local\\programs\\python\\python311\\lib\\site-packages (from mlxtend==0.23.1) (1.5.3)\n",
      "Requirement already satisfied: scikit-learn>=1.0.2 in c:\\users\\lenovo\\appdata\\local\\programs\\python\\python311\\lib\\site-packages (from mlxtend==0.23.1) (1.4.1.post1)\n",
      "Requirement already satisfied: matplotlib>=3.0.0 in c:\\users\\lenovo\\appdata\\local\\programs\\python\\python311\\lib\\site-packages (from mlxtend==0.23.1) (3.8.0)\n",
      "Requirement already satisfied: joblib>=0.13.2 in c:\\users\\lenovo\\appdata\\local\\programs\\python\\python311\\lib\\site-packages (from mlxtend==0.23.1) (1.3.2)\n",
      "Requirement already satisfied: contourpy>=1.0.1 in c:\\users\\lenovo\\appdata\\local\\programs\\python\\python311\\lib\\site-packages (from matplotlib>=3.0.0->mlxtend==0.23.1) (1.1.1)\n",
      "Requirement already satisfied: cycler>=0.10 in c:\\users\\lenovo\\appdata\\local\\programs\\python\\python311\\lib\\site-packages (from matplotlib>=3.0.0->mlxtend==0.23.1) (0.12.1)\n",
      "Requirement already satisfied: fonttools>=4.22.0 in c:\\users\\lenovo\\appdata\\local\\programs\\python\\python311\\lib\\site-packages (from matplotlib>=3.0.0->mlxtend==0.23.1) (4.43.1)\n",
      "Requirement already satisfied: kiwisolver>=1.0.1 in c:\\users\\lenovo\\appdata\\local\\programs\\python\\python311\\lib\\site-packages (from matplotlib>=3.0.0->mlxtend==0.23.1) (1.4.5)\n",
      "Requirement already satisfied: packaging>=20.0 in c:\\users\\lenovo\\appdata\\roaming\\python\\python311\\site-packages (from matplotlib>=3.0.0->mlxtend==0.23.1) (23.1)\n",
      "Requirement already satisfied: pillow>=6.2.0 in c:\\users\\lenovo\\appdata\\local\\programs\\python\\python311\\lib\\site-packages (from matplotlib>=3.0.0->mlxtend==0.23.1) (10.4.0)\n",
      "Requirement already satisfied: pyparsing>=2.3.1 in c:\\users\\lenovo\\appdata\\local\\programs\\python\\python311\\lib\\site-packages (from matplotlib>=3.0.0->mlxtend==0.23.1) (3.1.1)\n",
      "Requirement already satisfied: python-dateutil>=2.7 in c:\\users\\lenovo\\appdata\\roaming\\python\\python311\\site-packages (from matplotlib>=3.0.0->mlxtend==0.23.1) (2.8.2)\n",
      "Requirement already satisfied: pytz>=2020.1 in c:\\users\\lenovo\\appdata\\local\\programs\\python\\python311\\lib\\site-packages (from pandas>=0.24.2->mlxtend==0.23.1) (2022.7.1)\n",
      "Requirement already satisfied: threadpoolctl>=2.0.0 in c:\\users\\lenovo\\appdata\\local\\programs\\python\\python311\\lib\\site-packages (from scikit-learn>=1.0.2->mlxtend==0.23.1) (3.3.0)\n",
      "Requirement already satisfied: six>=1.5 in c:\\users\\lenovo\\appdata\\roaming\\python\\python311\\site-packages (from python-dateutil>=2.7->matplotlib>=3.0.0->mlxtend==0.23.1) (1.16.0)\n",
      "Downloading mlxtend-0.23.1-py3-none-any.whl (1.4 MB)\n",
      "   ---------------------------------------- 0.0/1.4 MB ? eta -:--:--\n",
      "   --- ------------------------------------ 0.1/1.4 MB 3.6 MB/s eta 0:00:01\n",
      "   --------- ------------------------------ 0.3/1.4 MB 3.5 MB/s eta 0:00:01\n",
      "   ------------------ --------------------- 0.7/1.4 MB 4.8 MB/s eta 0:00:01\n",
      "   ------------------------ --------------- 0.9/1.4 MB 5.7 MB/s eta 0:00:01\n",
      "   ---------------------------- ----------- 1.0/1.4 MB 4.4 MB/s eta 0:00:01\n",
      "   ---------------------------------------  1.4/1.4 MB 5.4 MB/s eta 0:00:01\n",
      "   ---------------------------------------  1.4/1.4 MB 5.4 MB/s eta 0:00:01\n",
      "   ---------------------------------------- 1.4/1.4 MB 4.0 MB/s eta 0:00:00\n",
      "Installing collected packages: mlxtend\n",
      "Successfully installed mlxtend-0.23.1\n",
      "Note: you may need to restart the kernel to use updated packages.\n"
     ]
    },
    {
     "name": "stderr",
     "output_type": "stream",
     "text": [
      "\n",
      "[notice] A new release of pip is available: 23.2.1 -> 24.3.1\n",
      "[notice] To update, run: python.exe -m pip install --upgrade pip\n"
     ]
    }
   ],
   "source": [
    "pip install mlxtend==0.23.1"
   ]
  },
  {
   "cell_type": "code",
   "execution_count": 2,
   "metadata": {
    "colab": {
     "base_uri": "https://localhost:8080/"
    },
    "executionInfo": {
     "elapsed": 3545,
     "status": "ok",
     "timestamp": 1732760387889,
     "user": {
      "displayName": "Nathalia Minoque",
      "userId": "00797020017705806857"
     },
     "user_tz": -420
    },
    "id": "JuFb1MP_O5EW",
    "outputId": "bc2e7ba3-a4a0-4db6-bb12-cdc9bdbe6bea"
   },
   "outputs": [],
   "source": [
    "import pandas as pd\n",
    "import numpy as np\n",
    "from matplotlib import pyplot as plt\n",
    "from sklearn.preprocessing import OneHotEncoder\n"
   ]
  },
  {
   "cell_type": "markdown",
   "metadata": {
    "id": "wDYkmRlZPSXY"
   },
   "source": [
    "# Association Rule for Store Dataset"
   ]
  },
  {
   "cell_type": "markdown",
   "metadata": {
    "id": "IYfOAa9fPjln"
   },
   "source": [
    "In this case study, we will explore how association rule can be used to analyze the items that are usualy purcased together.\n",
    "\n",
    "you can refer to this article to find out about apriori and association rule:\n",
    "https://rasbt.github.io/mlxtend/user_guide/frequent_patterns/apriori/\n",
    "https://rasbt.github.io/mlxtend/user_guide/frequent_patterns/association_rules/"
   ]
  },
  {
   "cell_type": "markdown",
   "metadata": {
    "id": "7EOg6BIYPxt4"
   },
   "source": [
    "## Load Data"
   ]
  },
  {
   "cell_type": "markdown",
   "metadata": {
    "id": "Gp0OZCjrQT1n"
   },
   "source": [
    "We will use the dataset of the transaction in a certain store. You can get the dataset here:\n",
    "https://gist.githubusercontent.com/Harsh-Git-Hub/2979ec48043928ad9033d8469928e751/raw/72de943e040b8bd0d087624b154d41b2ba9d9b60/retail_dataset.csv"
   ]
  },
  {
   "cell_type": "code",
   "execution_count": 3,
   "metadata": {
    "colab": {
     "base_uri": "https://localhost:8080/",
     "height": 261
    },
    "executionInfo": {
     "elapsed": 17,
     "status": "ok",
     "timestamp": 1732760387889,
     "user": {
      "displayName": "Nathalia Minoque",
      "userId": "00797020017705806857"
     },
     "user_tz": -420
    },
    "id": "LDF65VBRQjFL",
    "outputId": "6352b0ee-b143-4779-9096-4e38d7fa0a87"
   },
   "outputs": [
    {
     "data": {
      "text/html": [
       "<div>\n",
       "<style scoped>\n",
       "    .dataframe tbody tr th:only-of-type {\n",
       "        vertical-align: middle;\n",
       "    }\n",
       "\n",
       "    .dataframe tbody tr th {\n",
       "        vertical-align: top;\n",
       "    }\n",
       "\n",
       "    .dataframe thead th {\n",
       "        text-align: right;\n",
       "    }\n",
       "</style>\n",
       "<table border=\"1\" class=\"dataframe\">\n",
       "  <thead>\n",
       "    <tr style=\"text-align: right;\">\n",
       "      <th></th>\n",
       "      <th>0</th>\n",
       "      <th>1</th>\n",
       "      <th>2</th>\n",
       "      <th>3</th>\n",
       "      <th>4</th>\n",
       "      <th>5</th>\n",
       "      <th>6</th>\n",
       "    </tr>\n",
       "  </thead>\n",
       "  <tbody>\n",
       "    <tr>\n",
       "      <th>0</th>\n",
       "      <td>Bread</td>\n",
       "      <td>Wine</td>\n",
       "      <td>Eggs</td>\n",
       "      <td>Meat</td>\n",
       "      <td>Cheese</td>\n",
       "      <td>Pencil</td>\n",
       "      <td>Diaper</td>\n",
       "    </tr>\n",
       "    <tr>\n",
       "      <th>1</th>\n",
       "      <td>Bread</td>\n",
       "      <td>Cheese</td>\n",
       "      <td>Meat</td>\n",
       "      <td>Diaper</td>\n",
       "      <td>Wine</td>\n",
       "      <td>Milk</td>\n",
       "      <td>Pencil</td>\n",
       "    </tr>\n",
       "    <tr>\n",
       "      <th>2</th>\n",
       "      <td>Cheese</td>\n",
       "      <td>Meat</td>\n",
       "      <td>Eggs</td>\n",
       "      <td>Milk</td>\n",
       "      <td>Wine</td>\n",
       "      <td>NaN</td>\n",
       "      <td>NaN</td>\n",
       "    </tr>\n",
       "    <tr>\n",
       "      <th>3</th>\n",
       "      <td>Cheese</td>\n",
       "      <td>Meat</td>\n",
       "      <td>Eggs</td>\n",
       "      <td>Milk</td>\n",
       "      <td>Wine</td>\n",
       "      <td>NaN</td>\n",
       "      <td>NaN</td>\n",
       "    </tr>\n",
       "    <tr>\n",
       "      <th>4</th>\n",
       "      <td>Meat</td>\n",
       "      <td>Pencil</td>\n",
       "      <td>Wine</td>\n",
       "      <td>NaN</td>\n",
       "      <td>NaN</td>\n",
       "      <td>NaN</td>\n",
       "      <td>NaN</td>\n",
       "    </tr>\n",
       "  </tbody>\n",
       "</table>\n",
       "</div>"
      ],
      "text/plain": [
       "        0       1     2       3       4       5       6\n",
       "0   Bread    Wine  Eggs    Meat  Cheese  Pencil  Diaper\n",
       "1   Bread  Cheese  Meat  Diaper    Wine    Milk  Pencil\n",
       "2  Cheese    Meat  Eggs    Milk    Wine     NaN     NaN\n",
       "3  Cheese    Meat  Eggs    Milk    Wine     NaN     NaN\n",
       "4    Meat  Pencil  Wine     NaN     NaN     NaN     NaN"
      ]
     },
     "execution_count": 3,
     "metadata": {},
     "output_type": "execute_result"
    }
   ],
   "source": [
    "# load the data set ans show the first five transaction\n",
    "df = pd.read_csv('https://gist.githubusercontent.com/Harsh-Git-Hub/2979ec48043928ad9033d8469928e751/raw/72de943e040b8bd0d087624b154d41b2ba9d9b60/retail_dataset.csv')\n",
    "df.head()"
   ]
  },
  {
   "cell_type": "markdown",
   "metadata": {
    "id": "IkfhUabDQup9"
   },
   "source": [
    "# Get the set of product that has been purchased\n"
   ]
  },
  {
   "cell_type": "code",
   "execution_count": 4,
   "metadata": {
    "colab": {
     "base_uri": "https://localhost:8080/"
    },
    "executionInfo": {
     "elapsed": 14,
     "status": "ok",
     "timestamp": 1732760387889,
     "user": {
      "displayName": "Nathalia Minoque",
      "userId": "00797020017705806857"
     },
     "user_tz": -420
    },
    "id": "Awz6VzuMwR_-",
    "outputId": "313833ed-2ed6-4388-e15a-bc9de9d2c76e"
   },
   "outputs": [
    {
     "name": "stdout",
     "output_type": "stream",
     "text": [
      "{'Cheese', 'Bagel', 'Wine', nan, 'Meat', 'Pencil', 'Bread', 'Diaper', 'Milk', 'Eggs'}\n"
     ]
    }
   ],
   "source": [
    "products = set()\n",
    "for col in df.columns:\n",
    "    products.update(df[col].unique())\n",
    "print(products)"
   ]
  },
  {
   "cell_type": "markdown",
   "metadata": {
    "id": "M4g4k83bP07H"
   },
   "source": [
    "## Preprocess Data"
   ]
  },
  {
   "cell_type": "markdown",
   "metadata": {
    "id": "GEnL1bXtRLXe"
   },
   "source": [
    "In this step, we will transform our dataset so that we will have a one hot encoding based on the purchased products."
   ]
  },
  {
   "cell_type": "code",
   "execution_count": 5,
   "metadata": {
    "colab": {
     "base_uri": "https://localhost:8080/"
    },
    "executionInfo": {
     "elapsed": 13,
     "status": "ok",
     "timestamp": 1732760387889,
     "user": {
      "displayName": "Nathalia Minoque",
      "userId": "00797020017705806857"
     },
     "user_tz": -420
    },
    "id": "N4wdVmFWQ_yg",
    "outputId": "5f726f3b-6cfd-4e1a-bb29-55e93d633a51"
   },
   "outputs": [
    {
     "data": {
      "text/plain": [
       "{'Bagel': 0,\n",
       " 'Bread': 1,\n",
       " 'Cheese': 1,\n",
       " 'Diaper': 1,\n",
       " 'Eggs': 1,\n",
       " 'Meat': 1,\n",
       " 'Milk': 0,\n",
       " 'Pencil': 1,\n",
       " 'Wine': 1,\n",
       " 'nan': 0}"
      ]
     },
     "execution_count": 5,
     "metadata": {},
     "output_type": "execute_result"
    }
   ],
   "source": [
    "#create an itemset based on the products\n",
    "# Convert rows to transactions, keeping NaN values\n",
    "transactions = df.apply(lambda row: row.tolist(), axis=1).tolist()\n",
    "\n",
    "# Handle NaN by replacing it with a special placeholder ('NaN')\n",
    "transactions_with_nan = [\n",
    "    ['NaN' if item is None else item for item in transaction]\n",
    "    for transaction in transactions\n",
    "]\n",
    "\n",
    "# Flatten the transactions to create a list of unique items, including 'NaN'\n",
    "# Convert all items to strings before sorting to avoid type comparison errors\n",
    "all_items = sorted(set(str(item) for transaction in transactions_with_nan for item in transaction))\n",
    "\n",
    "# Add 'NaN' to the list of items explicitly to handle it properly\n",
    "# Since we've already converted everything to strings, we need to add 'nan' as a string\n",
    "all_items.append('nan')\n",
    "\n",
    "# encoding the feature\n",
    "# Prepare the OneHotEncoder\n",
    "encoder = OneHotEncoder(sparse_output=False, handle_unknown='ignore')\n",
    "encoder.fit([[item] for item in all_items])\n",
    "\n",
    "# Create dictionaries for each transaction\n",
    "encoded_transactions = []\n",
    "for transaction in transactions_with_nan:\n",
    "    # Encode the current transaction\n",
    "    encoded_array = encoder.transform([[item] for item in transaction])\n",
    "\n",
    "    # Sum the encoded results to get the presence of each item\n",
    "    summed_encoding = encoded_array.sum(axis=0)\n",
    "\n",
    "    # Map the items back to the dictionary format\n",
    "    encoded_dict = {item: int(value) for item, value in zip(encoder.categories_[0], summed_encoding)}\n",
    "    encoded_transactions.append(encoded_dict)\n",
    "\n",
    "# Display the first encoded transaction\n",
    "encoded_transactions[0]"
   ]
  },
  {
   "cell_type": "code",
   "execution_count": 6,
   "metadata": {
    "colab": {
     "base_uri": "https://localhost:8080/",
     "height": 261
    },
    "executionInfo": {
     "elapsed": 12,
     "status": "ok",
     "timestamp": 1732760387889,
     "user": {
      "displayName": "Nathalia Minoque",
      "userId": "00797020017705806857"
     },
     "user_tz": -420
    },
    "id": "v67eBdxByEJX",
    "outputId": "48e7ab1e-1150-4056-e4d0-786fa947c187"
   },
   "outputs": [
    {
     "data": {
      "text/html": [
       "<div>\n",
       "<style scoped>\n",
       "    .dataframe tbody tr th:only-of-type {\n",
       "        vertical-align: middle;\n",
       "    }\n",
       "\n",
       "    .dataframe tbody tr th {\n",
       "        vertical-align: top;\n",
       "    }\n",
       "\n",
       "    .dataframe thead th {\n",
       "        text-align: right;\n",
       "    }\n",
       "</style>\n",
       "<table border=\"1\" class=\"dataframe\">\n",
       "  <thead>\n",
       "    <tr style=\"text-align: right;\">\n",
       "      <th></th>\n",
       "      <th>Bagel</th>\n",
       "      <th>Bread</th>\n",
       "      <th>Cheese</th>\n",
       "      <th>Diaper</th>\n",
       "      <th>Eggs</th>\n",
       "      <th>Meat</th>\n",
       "      <th>Milk</th>\n",
       "      <th>Pencil</th>\n",
       "      <th>Wine</th>\n",
       "      <th>nan</th>\n",
       "    </tr>\n",
       "  </thead>\n",
       "  <tbody>\n",
       "    <tr>\n",
       "      <th>0</th>\n",
       "      <td>0</td>\n",
       "      <td>1</td>\n",
       "      <td>1</td>\n",
       "      <td>1</td>\n",
       "      <td>1</td>\n",
       "      <td>1</td>\n",
       "      <td>0</td>\n",
       "      <td>1</td>\n",
       "      <td>1</td>\n",
       "      <td>0</td>\n",
       "    </tr>\n",
       "    <tr>\n",
       "      <th>1</th>\n",
       "      <td>0</td>\n",
       "      <td>1</td>\n",
       "      <td>1</td>\n",
       "      <td>1</td>\n",
       "      <td>0</td>\n",
       "      <td>1</td>\n",
       "      <td>1</td>\n",
       "      <td>1</td>\n",
       "      <td>1</td>\n",
       "      <td>0</td>\n",
       "    </tr>\n",
       "    <tr>\n",
       "      <th>2</th>\n",
       "      <td>0</td>\n",
       "      <td>0</td>\n",
       "      <td>1</td>\n",
       "      <td>0</td>\n",
       "      <td>1</td>\n",
       "      <td>1</td>\n",
       "      <td>1</td>\n",
       "      <td>0</td>\n",
       "      <td>1</td>\n",
       "      <td>0</td>\n",
       "    </tr>\n",
       "    <tr>\n",
       "      <th>3</th>\n",
       "      <td>0</td>\n",
       "      <td>0</td>\n",
       "      <td>1</td>\n",
       "      <td>0</td>\n",
       "      <td>1</td>\n",
       "      <td>1</td>\n",
       "      <td>1</td>\n",
       "      <td>0</td>\n",
       "      <td>1</td>\n",
       "      <td>0</td>\n",
       "    </tr>\n",
       "    <tr>\n",
       "      <th>4</th>\n",
       "      <td>0</td>\n",
       "      <td>0</td>\n",
       "      <td>0</td>\n",
       "      <td>0</td>\n",
       "      <td>0</td>\n",
       "      <td>1</td>\n",
       "      <td>0</td>\n",
       "      <td>1</td>\n",
       "      <td>1</td>\n",
       "      <td>0</td>\n",
       "    </tr>\n",
       "  </tbody>\n",
       "</table>\n",
       "</div>"
      ],
      "text/plain": [
       "   Bagel  Bread  Cheese  Diaper  Eggs  Meat  Milk  Pencil  Wine  nan\n",
       "0      0      1       1       1     1     1     0       1     1    0\n",
       "1      0      1       1       1     0     1     1       1     1    0\n",
       "2      0      0       1       0     1     1     1       0     1    0\n",
       "3      0      0       1       0     1     1     1       0     1    0\n",
       "4      0      0       0       0     0     1     0       1     1    0"
      ]
     },
     "execution_count": 6,
     "metadata": {},
     "output_type": "execute_result"
    }
   ],
   "source": [
    "  # create new dataframe from the encoded features\n",
    "df_new = pd.DataFrame(encoded_transactions)\n",
    "\n",
    "  # show the new dataframe\n",
    "df_new.head()"
   ]
  },
  {
   "cell_type": "code",
   "execution_count": 7,
   "metadata": {
    "colab": {
     "base_uri": "https://localhost:8080/",
     "height": 261
    },
    "executionInfo": {
     "elapsed": 10,
     "status": "ok",
     "timestamp": 1732760387889,
     "user": {
      "displayName": "Nathalia Minoque",
      "userId": "00797020017705806857"
     },
     "user_tz": -420
    },
    "id": "V2hfmZMRhVeA",
    "outputId": "f7f297c9-85dd-4025-c5b2-f11c1857bee7"
   },
   "outputs": [
    {
     "data": {
      "text/html": [
       "<div>\n",
       "<style scoped>\n",
       "    .dataframe tbody tr th:only-of-type {\n",
       "        vertical-align: middle;\n",
       "    }\n",
       "\n",
       "    .dataframe tbody tr th {\n",
       "        vertical-align: top;\n",
       "    }\n",
       "\n",
       "    .dataframe thead th {\n",
       "        text-align: right;\n",
       "    }\n",
       "</style>\n",
       "<table border=\"1\" class=\"dataframe\">\n",
       "  <thead>\n",
       "    <tr style=\"text-align: right;\">\n",
       "      <th></th>\n",
       "      <th>Bagel</th>\n",
       "      <th>Bread</th>\n",
       "      <th>Cheese</th>\n",
       "      <th>Diaper</th>\n",
       "      <th>Eggs</th>\n",
       "      <th>Meat</th>\n",
       "      <th>Milk</th>\n",
       "      <th>Pencil</th>\n",
       "      <th>Wine</th>\n",
       "    </tr>\n",
       "  </thead>\n",
       "  <tbody>\n",
       "    <tr>\n",
       "      <th>0</th>\n",
       "      <td>0</td>\n",
       "      <td>1</td>\n",
       "      <td>1</td>\n",
       "      <td>1</td>\n",
       "      <td>1</td>\n",
       "      <td>1</td>\n",
       "      <td>0</td>\n",
       "      <td>1</td>\n",
       "      <td>1</td>\n",
       "    </tr>\n",
       "    <tr>\n",
       "      <th>1</th>\n",
       "      <td>0</td>\n",
       "      <td>1</td>\n",
       "      <td>1</td>\n",
       "      <td>1</td>\n",
       "      <td>0</td>\n",
       "      <td>1</td>\n",
       "      <td>1</td>\n",
       "      <td>1</td>\n",
       "      <td>1</td>\n",
       "    </tr>\n",
       "    <tr>\n",
       "      <th>2</th>\n",
       "      <td>0</td>\n",
       "      <td>0</td>\n",
       "      <td>1</td>\n",
       "      <td>0</td>\n",
       "      <td>1</td>\n",
       "      <td>1</td>\n",
       "      <td>1</td>\n",
       "      <td>0</td>\n",
       "      <td>1</td>\n",
       "    </tr>\n",
       "    <tr>\n",
       "      <th>3</th>\n",
       "      <td>0</td>\n",
       "      <td>0</td>\n",
       "      <td>1</td>\n",
       "      <td>0</td>\n",
       "      <td>1</td>\n",
       "      <td>1</td>\n",
       "      <td>1</td>\n",
       "      <td>0</td>\n",
       "      <td>1</td>\n",
       "    </tr>\n",
       "    <tr>\n",
       "      <th>4</th>\n",
       "      <td>0</td>\n",
       "      <td>0</td>\n",
       "      <td>0</td>\n",
       "      <td>0</td>\n",
       "      <td>0</td>\n",
       "      <td>1</td>\n",
       "      <td>0</td>\n",
       "      <td>1</td>\n",
       "      <td>1</td>\n",
       "    </tr>\n",
       "  </tbody>\n",
       "</table>\n",
       "</div>"
      ],
      "text/plain": [
       "   Bagel  Bread  Cheese  Diaper  Eggs  Meat  Milk  Pencil  Wine\n",
       "0      0      1       1       1     1     1     0       1     1\n",
       "1      0      1       1       1     0     1     1       1     1\n",
       "2      0      0       1       0     1     1     1       0     1\n",
       "3      0      0       1       0     1     1     1       0     1\n",
       "4      0      0       0       0     0     1     0       1     1"
      ]
     },
     "execution_count": 7,
     "metadata": {},
     "output_type": "execute_result"
    }
   ],
   "source": [
    "# Since, the encoded dataframe consist of the empty column. We will drop the NaN column or u can use the index.\n",
    "df_new.drop(columns='nan', inplace=True)\n",
    "\n",
    "df_new.head()"
   ]
  },
  {
   "cell_type": "markdown",
   "metadata": {
    "id": "lBJmzWAAS4Mw"
   },
   "source": [
    "Since, the encoded dataframe consist of the empty column. We will drop the NaN column or select all columns other than the first column."
   ]
  },
  {
   "cell_type": "markdown",
   "metadata": {
    "id": "_UXDzSNPP35P"
   },
   "source": [
    "## Apriori Algorithm"
   ]
  },
  {
   "cell_type": "markdown",
   "metadata": {
    "id": "K-jD3ea4TYMV"
   },
   "source": [
    "We will use appriori algorithm to determine the frequently purchased products.\n",
    "For this case study, we will min_support=0.2"
   ]
  },
  {
   "cell_type": "code",
   "execution_count": 8,
   "metadata": {
    "colab": {
     "base_uri": "https://localhost:8080/",
     "height": 1000
    },
    "executionInfo": {
     "elapsed": 9,
     "status": "ok",
     "timestamp": 1732760387889,
     "user": {
      "displayName": "Nathalia Minoque",
      "userId": "00797020017705806857"
     },
     "user_tz": -420
    },
    "id": "BLA4Jqhoyjof",
    "outputId": "1e49e7f0-1129-40ed-982f-27d0450f6bb1"
   },
   "outputs": [
    {
     "name": "stderr",
     "output_type": "stream",
     "text": [
      "c:\\Users\\lenovo\\AppData\\Local\\Programs\\Python\\Python311\\Lib\\site-packages\\mlxtend\\frequent_patterns\\fpcommon.py:109: DeprecationWarning: DataFrames with non-bool types result in worse computationalperformance and their support might be discontinued in the future.Please use a DataFrame with bool type\n",
      "  warnings.warn(\n"
     ]
    },
    {
     "data": {
      "text/html": [
       "<div>\n",
       "<style scoped>\n",
       "    .dataframe tbody tr th:only-of-type {\n",
       "        vertical-align: middle;\n",
       "    }\n",
       "\n",
       "    .dataframe tbody tr th {\n",
       "        vertical-align: top;\n",
       "    }\n",
       "\n",
       "    .dataframe thead th {\n",
       "        text-align: right;\n",
       "    }\n",
       "</style>\n",
       "<table border=\"1\" class=\"dataframe\">\n",
       "  <thead>\n",
       "    <tr style=\"text-align: right;\">\n",
       "      <th></th>\n",
       "      <th>support</th>\n",
       "      <th>itemsets</th>\n",
       "    </tr>\n",
       "  </thead>\n",
       "  <tbody>\n",
       "    <tr>\n",
       "      <th>0</th>\n",
       "      <td>0.425397</td>\n",
       "      <td>(Bagel)</td>\n",
       "    </tr>\n",
       "    <tr>\n",
       "      <th>1</th>\n",
       "      <td>0.504762</td>\n",
       "      <td>(Bread)</td>\n",
       "    </tr>\n",
       "    <tr>\n",
       "      <th>2</th>\n",
       "      <td>0.501587</td>\n",
       "      <td>(Cheese)</td>\n",
       "    </tr>\n",
       "    <tr>\n",
       "      <th>3</th>\n",
       "      <td>0.406349</td>\n",
       "      <td>(Diaper)</td>\n",
       "    </tr>\n",
       "    <tr>\n",
       "      <th>4</th>\n",
       "      <td>0.438095</td>\n",
       "      <td>(Eggs)</td>\n",
       "    </tr>\n",
       "    <tr>\n",
       "      <th>5</th>\n",
       "      <td>0.476190</td>\n",
       "      <td>(Meat)</td>\n",
       "    </tr>\n",
       "    <tr>\n",
       "      <th>6</th>\n",
       "      <td>0.501587</td>\n",
       "      <td>(Milk)</td>\n",
       "    </tr>\n",
       "    <tr>\n",
       "      <th>7</th>\n",
       "      <td>0.361905</td>\n",
       "      <td>(Pencil)</td>\n",
       "    </tr>\n",
       "    <tr>\n",
       "      <th>8</th>\n",
       "      <td>0.438095</td>\n",
       "      <td>(Wine)</td>\n",
       "    </tr>\n",
       "    <tr>\n",
       "      <th>9</th>\n",
       "      <td>0.279365</td>\n",
       "      <td>(Bagel, Bread)</td>\n",
       "    </tr>\n",
       "    <tr>\n",
       "      <th>10</th>\n",
       "      <td>0.225397</td>\n",
       "      <td>(Milk, Bagel)</td>\n",
       "    </tr>\n",
       "    <tr>\n",
       "      <th>11</th>\n",
       "      <td>0.238095</td>\n",
       "      <td>(Cheese, Bread)</td>\n",
       "    </tr>\n",
       "    <tr>\n",
       "      <th>12</th>\n",
       "      <td>0.231746</td>\n",
       "      <td>(Diaper, Bread)</td>\n",
       "    </tr>\n",
       "    <tr>\n",
       "      <th>13</th>\n",
       "      <td>0.206349</td>\n",
       "      <td>(Meat, Bread)</td>\n",
       "    </tr>\n",
       "    <tr>\n",
       "      <th>14</th>\n",
       "      <td>0.279365</td>\n",
       "      <td>(Milk, Bread)</td>\n",
       "    </tr>\n",
       "    <tr>\n",
       "      <th>15</th>\n",
       "      <td>0.200000</td>\n",
       "      <td>(Pencil, Bread)</td>\n",
       "    </tr>\n",
       "    <tr>\n",
       "      <th>16</th>\n",
       "      <td>0.244444</td>\n",
       "      <td>(Wine, Bread)</td>\n",
       "    </tr>\n",
       "    <tr>\n",
       "      <th>17</th>\n",
       "      <td>0.200000</td>\n",
       "      <td>(Diaper, Cheese)</td>\n",
       "    </tr>\n",
       "    <tr>\n",
       "      <th>18</th>\n",
       "      <td>0.298413</td>\n",
       "      <td>(Eggs, Cheese)</td>\n",
       "    </tr>\n",
       "    <tr>\n",
       "      <th>19</th>\n",
       "      <td>0.323810</td>\n",
       "      <td>(Meat, Cheese)</td>\n",
       "    </tr>\n",
       "    <tr>\n",
       "      <th>20</th>\n",
       "      <td>0.304762</td>\n",
       "      <td>(Milk, Cheese)</td>\n",
       "    </tr>\n",
       "    <tr>\n",
       "      <th>21</th>\n",
       "      <td>0.200000</td>\n",
       "      <td>(Pencil, Cheese)</td>\n",
       "    </tr>\n",
       "    <tr>\n",
       "      <th>22</th>\n",
       "      <td>0.269841</td>\n",
       "      <td>(Wine, Cheese)</td>\n",
       "    </tr>\n",
       "    <tr>\n",
       "      <th>23</th>\n",
       "      <td>0.234921</td>\n",
       "      <td>(Diaper, Wine)</td>\n",
       "    </tr>\n",
       "    <tr>\n",
       "      <th>24</th>\n",
       "      <td>0.266667</td>\n",
       "      <td>(Meat, Eggs)</td>\n",
       "    </tr>\n",
       "    <tr>\n",
       "      <th>25</th>\n",
       "      <td>0.244444</td>\n",
       "      <td>(Milk, Eggs)</td>\n",
       "    </tr>\n",
       "    <tr>\n",
       "      <th>26</th>\n",
       "      <td>0.241270</td>\n",
       "      <td>(Wine, Eggs)</td>\n",
       "    </tr>\n",
       "    <tr>\n",
       "      <th>27</th>\n",
       "      <td>0.244444</td>\n",
       "      <td>(Meat, Milk)</td>\n",
       "    </tr>\n",
       "    <tr>\n",
       "      <th>28</th>\n",
       "      <td>0.250794</td>\n",
       "      <td>(Meat, Wine)</td>\n",
       "    </tr>\n",
       "    <tr>\n",
       "      <th>29</th>\n",
       "      <td>0.219048</td>\n",
       "      <td>(Milk, Wine)</td>\n",
       "    </tr>\n",
       "    <tr>\n",
       "      <th>30</th>\n",
       "      <td>0.200000</td>\n",
       "      <td>(Pencil, Wine)</td>\n",
       "    </tr>\n",
       "    <tr>\n",
       "      <th>31</th>\n",
       "      <td>0.215873</td>\n",
       "      <td>(Eggs, Meat, Cheese)</td>\n",
       "    </tr>\n",
       "    <tr>\n",
       "      <th>32</th>\n",
       "      <td>0.203175</td>\n",
       "      <td>(Meat, Milk, Cheese)</td>\n",
       "    </tr>\n",
       "  </tbody>\n",
       "</table>\n",
       "</div>"
      ],
      "text/plain": [
       "     support              itemsets\n",
       "0   0.425397               (Bagel)\n",
       "1   0.504762               (Bread)\n",
       "2   0.501587              (Cheese)\n",
       "3   0.406349              (Diaper)\n",
       "4   0.438095                (Eggs)\n",
       "5   0.476190                (Meat)\n",
       "6   0.501587                (Milk)\n",
       "7   0.361905              (Pencil)\n",
       "8   0.438095                (Wine)\n",
       "9   0.279365        (Bagel, Bread)\n",
       "10  0.225397         (Milk, Bagel)\n",
       "11  0.238095       (Cheese, Bread)\n",
       "12  0.231746       (Diaper, Bread)\n",
       "13  0.206349         (Meat, Bread)\n",
       "14  0.279365         (Milk, Bread)\n",
       "15  0.200000       (Pencil, Bread)\n",
       "16  0.244444         (Wine, Bread)\n",
       "17  0.200000      (Diaper, Cheese)\n",
       "18  0.298413        (Eggs, Cheese)\n",
       "19  0.323810        (Meat, Cheese)\n",
       "20  0.304762        (Milk, Cheese)\n",
       "21  0.200000      (Pencil, Cheese)\n",
       "22  0.269841        (Wine, Cheese)\n",
       "23  0.234921        (Diaper, Wine)\n",
       "24  0.266667          (Meat, Eggs)\n",
       "25  0.244444          (Milk, Eggs)\n",
       "26  0.241270          (Wine, Eggs)\n",
       "27  0.244444          (Meat, Milk)\n",
       "28  0.250794          (Meat, Wine)\n",
       "29  0.219048          (Milk, Wine)\n",
       "30  0.200000        (Pencil, Wine)\n",
       "31  0.215873  (Eggs, Meat, Cheese)\n",
       "32  0.203175  (Meat, Milk, Cheese)"
      ]
     },
     "execution_count": 8,
     "metadata": {},
     "output_type": "execute_result"
    }
   ],
   "source": [
    "#Set threshold value untuk digunakan dalam penghitungan support\n",
    "from mlxtend.frequent_patterns import apriori, association_rules\n",
    "\n",
    "support = 0.2\n",
    "frequent_itemsets = apriori(df_new, min_support=support, use_colnames=True)\n",
    "\n",
    "frequent_itemsets"
   ]
  },
  {
   "cell_type": "markdown",
   "metadata": {
    "id": "uEr2YXHrVOIA"
   },
   "source": [
    "The we will generate association rule of the frequent itemset based on confidence level with the threshold=0.6"
   ]
  },
  {
   "cell_type": "code",
   "execution_count": 9,
   "metadata": {
    "colab": {
     "base_uri": "https://localhost:8080/",
     "height": 543
    },
    "executionInfo": {
     "elapsed": 323,
     "status": "ok",
     "timestamp": 1732760397116,
     "user": {
      "displayName": "Nathalia Minoque",
      "userId": "00797020017705806857"
     },
     "user_tz": -420
    },
    "id": "5GalSXOoy6H8",
    "outputId": "acdef422-dd36-41c4-bdfc-0544b25dc0b7"
   },
   "outputs": [
    {
     "data": {
      "text/html": [
       "<div>\n",
       "<style scoped>\n",
       "    .dataframe tbody tr th:only-of-type {\n",
       "        vertical-align: middle;\n",
       "    }\n",
       "\n",
       "    .dataframe tbody tr th {\n",
       "        vertical-align: top;\n",
       "    }\n",
       "\n",
       "    .dataframe thead th {\n",
       "        text-align: right;\n",
       "    }\n",
       "</style>\n",
       "<table border=\"1\" class=\"dataframe\">\n",
       "  <thead>\n",
       "    <tr style=\"text-align: right;\">\n",
       "      <th></th>\n",
       "      <th>antecedents</th>\n",
       "      <th>consequents</th>\n",
       "      <th>antecedent support</th>\n",
       "      <th>consequent support</th>\n",
       "      <th>support</th>\n",
       "      <th>confidence</th>\n",
       "      <th>lift</th>\n",
       "      <th>leverage</th>\n",
       "      <th>conviction</th>\n",
       "    </tr>\n",
       "  </thead>\n",
       "  <tbody>\n",
       "    <tr>\n",
       "      <th>0</th>\n",
       "      <td>(Bagel)</td>\n",
       "      <td>(Bread)</td>\n",
       "      <td>0.425397</td>\n",
       "      <td>0.504762</td>\n",
       "      <td>0.279365</td>\n",
       "      <td>0.656716</td>\n",
       "      <td>1.301042</td>\n",
       "      <td>0.064641</td>\n",
       "      <td>1.442650</td>\n",
       "    </tr>\n",
       "    <tr>\n",
       "      <th>1</th>\n",
       "      <td>(Eggs)</td>\n",
       "      <td>(Cheese)</td>\n",
       "      <td>0.438095</td>\n",
       "      <td>0.501587</td>\n",
       "      <td>0.298413</td>\n",
       "      <td>0.681159</td>\n",
       "      <td>1.358008</td>\n",
       "      <td>0.078670</td>\n",
       "      <td>1.563203</td>\n",
       "    </tr>\n",
       "    <tr>\n",
       "      <th>2</th>\n",
       "      <td>(Meat)</td>\n",
       "      <td>(Cheese)</td>\n",
       "      <td>0.476190</td>\n",
       "      <td>0.501587</td>\n",
       "      <td>0.323810</td>\n",
       "      <td>0.680000</td>\n",
       "      <td>1.355696</td>\n",
       "      <td>0.084958</td>\n",
       "      <td>1.557540</td>\n",
       "    </tr>\n",
       "    <tr>\n",
       "      <th>3</th>\n",
       "      <td>(Cheese)</td>\n",
       "      <td>(Meat)</td>\n",
       "      <td>0.501587</td>\n",
       "      <td>0.476190</td>\n",
       "      <td>0.323810</td>\n",
       "      <td>0.645570</td>\n",
       "      <td>1.355696</td>\n",
       "      <td>0.084958</td>\n",
       "      <td>1.477891</td>\n",
       "    </tr>\n",
       "    <tr>\n",
       "      <th>4</th>\n",
       "      <td>(Milk)</td>\n",
       "      <td>(Cheese)</td>\n",
       "      <td>0.501587</td>\n",
       "      <td>0.501587</td>\n",
       "      <td>0.304762</td>\n",
       "      <td>0.607595</td>\n",
       "      <td>1.211344</td>\n",
       "      <td>0.053172</td>\n",
       "      <td>1.270148</td>\n",
       "    </tr>\n",
       "    <tr>\n",
       "      <th>5</th>\n",
       "      <td>(Cheese)</td>\n",
       "      <td>(Milk)</td>\n",
       "      <td>0.501587</td>\n",
       "      <td>0.501587</td>\n",
       "      <td>0.304762</td>\n",
       "      <td>0.607595</td>\n",
       "      <td>1.211344</td>\n",
       "      <td>0.053172</td>\n",
       "      <td>1.270148</td>\n",
       "    </tr>\n",
       "    <tr>\n",
       "      <th>6</th>\n",
       "      <td>(Wine)</td>\n",
       "      <td>(Cheese)</td>\n",
       "      <td>0.438095</td>\n",
       "      <td>0.501587</td>\n",
       "      <td>0.269841</td>\n",
       "      <td>0.615942</td>\n",
       "      <td>1.227986</td>\n",
       "      <td>0.050098</td>\n",
       "      <td>1.297754</td>\n",
       "    </tr>\n",
       "    <tr>\n",
       "      <th>7</th>\n",
       "      <td>(Eggs)</td>\n",
       "      <td>(Meat)</td>\n",
       "      <td>0.438095</td>\n",
       "      <td>0.476190</td>\n",
       "      <td>0.266667</td>\n",
       "      <td>0.608696</td>\n",
       "      <td>1.278261</td>\n",
       "      <td>0.058050</td>\n",
       "      <td>1.338624</td>\n",
       "    </tr>\n",
       "    <tr>\n",
       "      <th>8</th>\n",
       "      <td>(Meat, Eggs)</td>\n",
       "      <td>(Cheese)</td>\n",
       "      <td>0.266667</td>\n",
       "      <td>0.501587</td>\n",
       "      <td>0.215873</td>\n",
       "      <td>0.809524</td>\n",
       "      <td>1.613924</td>\n",
       "      <td>0.082116</td>\n",
       "      <td>2.616667</td>\n",
       "    </tr>\n",
       "    <tr>\n",
       "      <th>9</th>\n",
       "      <td>(Cheese, Eggs)</td>\n",
       "      <td>(Meat)</td>\n",
       "      <td>0.298413</td>\n",
       "      <td>0.476190</td>\n",
       "      <td>0.215873</td>\n",
       "      <td>0.723404</td>\n",
       "      <td>1.519149</td>\n",
       "      <td>0.073772</td>\n",
       "      <td>1.893773</td>\n",
       "    </tr>\n",
       "    <tr>\n",
       "      <th>10</th>\n",
       "      <td>(Meat, Cheese)</td>\n",
       "      <td>(Eggs)</td>\n",
       "      <td>0.323810</td>\n",
       "      <td>0.438095</td>\n",
       "      <td>0.215873</td>\n",
       "      <td>0.666667</td>\n",
       "      <td>1.521739</td>\n",
       "      <td>0.074014</td>\n",
       "      <td>1.685714</td>\n",
       "    </tr>\n",
       "    <tr>\n",
       "      <th>11</th>\n",
       "      <td>(Meat, Milk)</td>\n",
       "      <td>(Cheese)</td>\n",
       "      <td>0.244444</td>\n",
       "      <td>0.501587</td>\n",
       "      <td>0.203175</td>\n",
       "      <td>0.831169</td>\n",
       "      <td>1.657077</td>\n",
       "      <td>0.080564</td>\n",
       "      <td>2.952137</td>\n",
       "    </tr>\n",
       "    <tr>\n",
       "      <th>12</th>\n",
       "      <td>(Meat, Cheese)</td>\n",
       "      <td>(Milk)</td>\n",
       "      <td>0.323810</td>\n",
       "      <td>0.501587</td>\n",
       "      <td>0.203175</td>\n",
       "      <td>0.627451</td>\n",
       "      <td>1.250931</td>\n",
       "      <td>0.040756</td>\n",
       "      <td>1.337845</td>\n",
       "    </tr>\n",
       "    <tr>\n",
       "      <th>13</th>\n",
       "      <td>(Milk, Cheese)</td>\n",
       "      <td>(Meat)</td>\n",
       "      <td>0.304762</td>\n",
       "      <td>0.476190</td>\n",
       "      <td>0.203175</td>\n",
       "      <td>0.666667</td>\n",
       "      <td>1.400000</td>\n",
       "      <td>0.058050</td>\n",
       "      <td>1.571429</td>\n",
       "    </tr>\n",
       "  </tbody>\n",
       "</table>\n",
       "</div>"
      ],
      "text/plain": [
       "       antecedents consequents  antecedent support  consequent support  \\\n",
       "0          (Bagel)     (Bread)            0.425397            0.504762   \n",
       "1           (Eggs)    (Cheese)            0.438095            0.501587   \n",
       "2           (Meat)    (Cheese)            0.476190            0.501587   \n",
       "3         (Cheese)      (Meat)            0.501587            0.476190   \n",
       "4           (Milk)    (Cheese)            0.501587            0.501587   \n",
       "5         (Cheese)      (Milk)            0.501587            0.501587   \n",
       "6           (Wine)    (Cheese)            0.438095            0.501587   \n",
       "7           (Eggs)      (Meat)            0.438095            0.476190   \n",
       "8     (Meat, Eggs)    (Cheese)            0.266667            0.501587   \n",
       "9   (Cheese, Eggs)      (Meat)            0.298413            0.476190   \n",
       "10  (Meat, Cheese)      (Eggs)            0.323810            0.438095   \n",
       "11    (Meat, Milk)    (Cheese)            0.244444            0.501587   \n",
       "12  (Meat, Cheese)      (Milk)            0.323810            0.501587   \n",
       "13  (Milk, Cheese)      (Meat)            0.304762            0.476190   \n",
       "\n",
       "     support  confidence      lift  leverage  conviction  \n",
       "0   0.279365    0.656716  1.301042  0.064641    1.442650  \n",
       "1   0.298413    0.681159  1.358008  0.078670    1.563203  \n",
       "2   0.323810    0.680000  1.355696  0.084958    1.557540  \n",
       "3   0.323810    0.645570  1.355696  0.084958    1.477891  \n",
       "4   0.304762    0.607595  1.211344  0.053172    1.270148  \n",
       "5   0.304762    0.607595  1.211344  0.053172    1.270148  \n",
       "6   0.269841    0.615942  1.227986  0.050098    1.297754  \n",
       "7   0.266667    0.608696  1.278261  0.058050    1.338624  \n",
       "8   0.215873    0.809524  1.613924  0.082116    2.616667  \n",
       "9   0.215873    0.723404  1.519149  0.073772    1.893773  \n",
       "10  0.215873    0.666667  1.521739  0.074014    1.685714  \n",
       "11  0.203175    0.831169  1.657077  0.080564    2.952137  \n",
       "12  0.203175    0.627451  1.250931  0.040756    1.337845  \n",
       "13  0.203175    0.666667  1.400000  0.058050    1.571429  "
      ]
     },
     "execution_count": 9,
     "metadata": {},
     "output_type": "execute_result"
    }
   ],
   "source": [
    "threshold = 0.6\n",
    "rules = association_rules(frequent_itemsets, metric='confidence', min_threshold=threshold)\n",
    "\n",
    "rules.drop(columns='zhangs_metric', inplace=True)\n",
    "rules"
   ]
  },
  {
   "cell_type": "markdown",
   "metadata": {
    "id": "CZx_BU8MjgRg"
   },
   "source": [
    "Provide explanation about __antecedent support__, __consequent support__, __support__, __confidence__, __lift__, __leverage__, __conviction__, __conviction__ and the interpretation from the case above (please use text section)"
   ]
  },
  {
   "cell_type": "markdown",
   "metadata": {},
   "source": [
    "## Association Rules: Analyzing Relationships Between Items Purchased Together\n",
    "\n",
    "Association rules reveal the relationships between items that are frequently purchased together. The **antecedent** refers to the item(s) a customer buys first, while the **consequent** refers to the item(s) they are likely to buy next. The other columns describe various metrics used to assess the strength and significance of these associations.\n",
    "\n",
    "### Key Metrics and Their Interpretation:\n",
    "\n",
    "- **Antecedent Support**: This measures the frequency with which the antecedent (the \"if\" part of the rule) appears in the transactions. For example, in the first rule, Bagel appears in 42.54% of all transactions (0.425397), meaning Bagels are bought in about 42.5% of the total transactions.\n",
    "\n",
    "- **Consequent Support**: This shows how frequently the consequent (the \"then\" part of the rule) appears in the transactions. For instance, Bread appears in 50.48% of transactions, indicating that Bread is bought in half of the transactions.\n",
    "\n",
    "- **Support**: This value tells us how often the antecedent and consequent appear together in a transaction. For the rule **Bagel -> Bread**, the support is 27.94%, meaning that Bagel and Bread are purchased together in 27.94% of transactions. Support provides a measure of the overall importance of the rule.\n",
    "\n",
    "- **Confidence**: Confidence indicates the likelihood that the consequent will appear given that the antecedent has appeared in a transaction. For the **Bagel -> Bread** rule, the confidence is 65.67%, meaning that if a customer buys Bagels, there is a 65.67% chance they will also buy Bread.\n",
    "\n",
    "- **Lift**: Lift tells us how much more likely the consequent is to occur with the antecedent than without it. A lift greater than 1 suggests a positive relationship. In the case of **Bagel -> Bread**, the lift is 1.30, meaning that the occurrence of Bagel increases the likelihood of Bread being purchased by 1.30 times, compared to its overall likelihood of being purchased without the presence of Bagels.\n",
    "\n",
    "- **Leverage**: Leverage measures the difference between the observed frequency of the rule and the expected frequency if the items were independent. For **Bagel -> Bread**, the leverage is 0.064641, which indicates the strength of the co-occurrence of Bagel and Bread relative to their individual probabilities.\n",
    "\n",
    "- **Conviction**: This metric indicates the strength of the rule in terms of the likelihood of the antecedent occurring without the consequent. A conviction greater than 1 suggests a strong association. For **Bagel -> Bread**, the conviction is 1.44, which indicates a fairly strong association, meaning that if a customer buys Bagels, they are more likely to also buy Bread.\n",
    "\n",
    "### Observations from the Rules:\n",
    "\n",
    "- **Eggs -> Cheese** has a confidence of 68.12% and a lift of 1.36, meaning customers who buy Eggs are likely to buy Cheese with a strong relationship.\n",
    "- **Cheese, Meat -> Eggs** has a confidence of 66.67% and a lift of 1.52, suggesting that the combination of Cheese and Meat strongly predicts the purchase of Eggs.\n",
    "- **Milk -> Cheese** has a support of 30.48%, confidence of 60.76%, and a lift of 1.21, which means Milk and Cheese are bought together reasonably often, although the relationship is weaker compared to the other rules.\n",
    "\n",
    "In general, these rules suggest that certain products are more likely to be purchased together, which can help in product placement, promotions, and targeted marketing strategies. For example, the strong relationship between Eggs and Cheese could be used for bundling them together in promotions or strategically placing them near each other on store shelves to encourage customers to purchase both.\n"
   ]
  }
 ],
 "metadata": {
  "colab": {
   "provenance": []
  },
  "kernelspec": {
   "display_name": "Python 3",
   "language": "python",
   "name": "python3"
  },
  "language_info": {
   "codemirror_mode": {
    "name": "ipython",
    "version": 3
   },
   "file_extension": ".py",
   "mimetype": "text/x-python",
   "name": "python",
   "nbconvert_exporter": "python",
   "pygments_lexer": "ipython3",
   "version": "3.11.5"
  }
 },
 "nbformat": 4,
 "nbformat_minor": 0
}
